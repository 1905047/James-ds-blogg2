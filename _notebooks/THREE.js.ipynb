{
 "cells": [
  {
   "cell_type": "code",
   "execution_count": 4,
   "metadata": {
    "vscode": {
     "languageId": "javascript"
    }
   },
   "outputs": [
    {
     "ename": "SyntaxError",
     "evalue": "invalid syntax (2252611240.py, line 1)",
     "output_type": "error",
     "traceback": [
      "\u001b[0;36m  Cell \u001b[0;32mIn [4], line 1\u001b[0;36m\u001b[0m\n\u001b[0;31m    let scene, camera, renderer, cube;\u001b[0m\n\u001b[0m        ^\u001b[0m\n\u001b[0;31mSyntaxError\u001b[0m\u001b[0;31m:\u001b[0m invalid syntax\n"
     ]
    }
   ],
   "source": [
    "let scene, camera, renderer, cube;\n",
    "\n",
    "function init(){\n",
    "  scene = new THREE.Scene();\n",
    "\n",
    "    camrea = new THREE.PerspectiveCamera(75, window.innerWidth / window.innerHeight, 0.1, 1000);\n",
    "    \n",
    "    renderer = new THREE.WebGLRenderer({antialias: true});\n",
    "    \n",
    "    renderer.setSize(window.innerWidth, window.innerHeight);\n",
    "    \n",
    "    document.body.appendChild(renderer.domElement);\n",
    "    \n",
    "   const geometry = new THREE.BoxGeometry(3, 3, 3);\n",
    "    // const material = new THREE.MeshBasicMaterial({color: 0x00ff00});\n",
    "\n",
    "    const texture = new THREE.TextureLoader().load('image.js/image-asset.jpeg');\n",
    "    const material = new THREE.MeshBasicMaterial({map: texture});\n",
    "\n",
    "     cube = new THREE.Mesh(geometry, material);\n",
    "    scene.add(cube);\n",
    "    \n",
    "    camera.position.z = 5;\n",
    "\n",
    "}\n",
    "\n",
    "\n",
    "    requestAnimationFrame(animate);{\n",
    "\n",
    "    cube.rotation.x += 0.01;\n",
    "    cube.rotation.y += 0.01;\n",
    "\n",
    "    renderer.render(scene, camera);\n",
    "}\n",
    "\n",
    "function onWindowResize(){\n",
    "    camera.aspect = window.innerWidth/ window .innerHeight\n",
    "    camera.updateProjectionMatrix();\n",
    "    renderer.setSize(window.innerWidth, window.innerHeight);\n",
    "}\n",
    "\n",
    "window.addEventListener('resize', onWindowResize, false);\n",
    "\n",
    "init();\n",
    "animate();"
   ]
  }
 ],
 "metadata": {
  "kernelspec": {
   "display_name": "Python 3.9.6 64-bit",
   "language": "python",
   "name": "python3"
  },
  "language_info": {
   "codemirror_mode": {
    "name": "ipython",
    "version": 3
   },
   "file_extension": ".py",
   "mimetype": "text/x-python",
   "name": "python",
   "nbconvert_exporter": "python",
   "pygments_lexer": "ipython3",
   "version": "3.9.6"
  },
  "orig_nbformat": 4,
  "vscode": {
   "interpreter": {
    "hash": "31f2aee4e71d21fbe5cf8b01ff0e069b9275f58929596ceb00d14d90e3e16cd6"
   }
  }
 },
 "nbformat": 4,
 "nbformat_minor": 2
}
